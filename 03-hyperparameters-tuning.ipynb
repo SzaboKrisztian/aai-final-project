{
 "cells": [
  {
   "cell_type": "code",
   "execution_count": 50,
   "metadata": {},
   "outputs": [
    {
     "name": "stdout",
     "output_type": "stream",
     "text": [
      "Fitting 5 folds for each of 4 candidates, totalling 20 fits\n",
      "[CV] END ........................................alpha=1e-09; total time=  12.0s\n",
      "[CV] END ........................................alpha=1e-08; total time=  12.5s\n",
      "[CV] END ........................................alpha=1e-07; total time=  12.5s\n",
      "[CV] END ........................................alpha=1e-07; total time=  12.7s\n",
      "[CV] END ........................................alpha=1e-08; total time=  12.8s\n",
      "[CV] END ........................................alpha=1e-07; total time=  12.9s\n",
      "[CV] END ........................................alpha=1e-08; total time=  12.9s\n",
      "[CV] END ........................................alpha=1e-07; total time=  13.0s\n",
      "[CV] END ........................................alpha=1e-09; total time=  13.0s\n",
      "[CV] END ........................................alpha=1e-09; total time=  13.1s\n",
      "[CV] END ........................................alpha=1e-09; total time=  13.2s\n",
      "[CV] END ........................................alpha=1e-08; total time=  13.2s\n",
      "[CV] END ........................................alpha=1e-07; total time=  13.1s\n",
      "[CV] END ........................................alpha=1e-09; total time=  13.3s\n",
      "[CV] END ........................................alpha=1e-08; total time=  13.6s\n",
      "[CV] END ........................................alpha=1e-06; total time=  13.8s\n",
      "[CV] END ........................................alpha=1e-06; total time=   5.0s\n",
      "[CV] END ........................................alpha=1e-06; total time=   4.4s\n",
      "[CV] END ........................................alpha=1e-06; total time=   4.6s\n",
      "[CV] END ........................................alpha=1e-06; total time=   4.7s\n",
      "Best hyperparameters: {'alpha': 1e-07}\n"
     ]
    }
   ],
   "source": [
    "from sklearn.model_selection import GridSearchCV\n",
    "from sklearn.svm import SVC, NuSVC\n",
    "from sklearn.neural_network import MLPClassifier\n",
    "from sklearn.discriminant_analysis import LinearDiscriminantAnalysis\n",
    "from sklearn.kernel_ridge import KernelRidge\n",
    "from utils import load_run\n",
    "from itertools import repeat\n",
    "import numpy as np\n",
    "\n",
    "run = load_run('1639482648')\n",
    "\n",
    "df = run['data']\n",
    "scaler = run['scaler']\n",
    "pca = run['pca']\n",
    "\n",
    "y = df['word'].to_numpy()\n",
    "X = df.filter(regex='pixel.+').to_numpy()\n",
    "X = scaler.transform(X)\n",
    "X = pca.transform(X)\n",
    "\n",
    "grid = GridSearchCV(\n",
    "    estimator=MLPClassifier(hidden_layer_sizes=tuple(repeat(int(pca.n_components_ * 1.2), 3)), solver='lbfgs'),\n",
    "    param_grid={\n",
    "        'alpha': [1e-09, 1e-08, 1e-07, 1e-06]\n",
    "    },\n",
    "    refit=True,\n",
    "    verbose=2,\n",
    "    n_jobs=-1\n",
    ")\n",
    "\n",
    "grid.fit(X,y)\n",
    "\n",
    "print('Best hyperparameters:', grid.best_params_)"
   ]
  },
  {
   "cell_type": "markdown",
   "metadata": {},
   "source": [
    "# SVC\n",
    " - small-ish dataset: C=2.5, gamma=0.0001105\n",
    "\n",
    "# MLPClassifier\n",
    " - hidden_layer_sizes=tuple(repeat(int(pca.n_components_ * 1.2), 3)), alpha=1e-07\n",
    "\n",
    "# NuSVC\n",
    " - NuSVC(nu=1e-07, tol=1e-09)\n",
    "\n",
    "# LinearDiscriminantAnalysis\n",
    " - LinearDiscriminantAnalysis(tol=1e-06)"
   ]
  }
 ],
 "metadata": {
  "interpreter": {
   "hash": "916dbcbb3f70747c44a77c7bcd40155683ae19c65e1c03b4aa3499c5328201f1"
  },
  "kernelspec": {
   "display_name": "Python 3.9.7 64-bit",
   "language": "python",
   "name": "python3"
  },
  "language_info": {
   "codemirror_mode": {
    "name": "ipython",
    "version": 3
   },
   "file_extension": ".py",
   "mimetype": "text/x-python",
   "name": "python",
   "nbconvert_exporter": "python",
   "pygments_lexer": "ipython3",
   "version": "3.9.7"
  },
  "orig_nbformat": 4
 },
 "nbformat": 4,
 "nbformat_minor": 2
}
