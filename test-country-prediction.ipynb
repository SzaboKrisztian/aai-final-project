{
 "cells": [
  {
   "cell_type": "code",
   "execution_count": 17,
   "metadata": {},
   "outputs": [
    {
     "name": "stdout",
     "output_type": "stream",
     "text": [
      "The autoreload extension is already loaded. To reload it, use:\n",
      "  %reload_ext autoreload\n"
     ]
    }
   ],
   "source": [
    "%load_ext autoreload\n",
    "%autoreload 2"
   ]
  },
  {
   "cell_type": "code",
   "execution_count": 18,
   "metadata": {},
   "outputs": [],
   "source": [
    "from utils import read_stats\n",
    "\n",
    "stats = read_stats()\n",
    "sorted_stats = [(k, v) for k, v in stats.items()]\n",
    "sorted_stats.sort(key=lambda e : e[1][0][1], reverse=True)\n",
    "\n",
    "freqs = {}\n",
    "for e in sorted_stats:\n",
    "    count = freqs.get(e[1][0][0], 0)\n",
    "    freqs[e[1][0][0]] = count + 1\n",
    "\n",
    "freqs = [(k, v) for k, v in freqs.items()]\n",
    "freqs.sort(key=lambda e : e[1], reverse=True)\n",
    "\n",
    "countries = list(map(lambda e : e[0], freqs))\n",
    "\n"
   ]
  },
  {
   "cell_type": "code",
   "execution_count": 19,
   "metadata": {},
   "outputs": [
    {
     "name": "stdout",
     "output_type": "stream",
     "text": [
      "Category lantern:\n",
      "Accuracy for lantern: 0.20%\n",
      "Category power outlet:\n",
      "Accuracy for power outlet: 0.21%\n",
      "Category fish:\n",
      "Accuracy for fish: 0.19%\n",
      "Category bread:\n",
      "Accuracy for bread: 0.21%\n",
      "Category traffic light:\n",
      "Accuracy for traffic light: 0.24%\n",
      "Category castle:\n",
      "Accuracy for castle: 0.21%\n",
      "Category sandwich:\n",
      "Accuracy for sandwich: 0.22%\n",
      "Category table:\n",
      "Accuracy for table: 0.21%\n",
      "Category car:\n",
      "Accuracy for car: 0.17%\n",
      "Category pickup truck:\n",
      "Accuracy for pickup truck: 0.18%\n",
      "Category dresser:\n",
      "Accuracy for dresser: 0.20%\n",
      "Category fire hydrant:\n",
      "Accuracy for fire hydrant: 0.19%\n",
      "Category helicopter:\n",
      "Accuracy for helicopter: 0.21%\n",
      "Category telephone:\n",
      "Accuracy for telephone: 0.24%\n",
      "Category church:\n",
      "Accuracy for church: 0.20%\n",
      "Category bed:\n",
      "Accuracy for bed: 0.19%\n",
      "Category cup:\n",
      "Accuracy for cup: 0.23%\n",
      "Category ice cream:\n",
      "Accuracy for ice cream: 0.25%\n",
      "Category ambulance:\n",
      "Accuracy for ambulance: 0.19%\n",
      "Category strawberry:\n",
      "Accuracy for strawberry: 0.20%\n",
      "Category crown:\n",
      "Accuracy for crown: 0.19%\n",
      "Category bench:\n",
      "Accuracy for bench: 0.20%\n",
      "Category suitcase:\n",
      "Accuracy for suitcase: 0.19%\n",
      "Category wine glass:\n",
      "Accuracy for wine glass: 0.18%\n",
      "Category sailboat:\n",
      "Accuracy for sailboat: 0.19%\n",
      "Category chair:\n",
      "Accuracy for chair: 0.12%\n",
      "Category fan:\n",
      "Accuracy for fan: 0.21%\n",
      "Category hammer:\n",
      "Accuracy for hammer: 0.22%\n",
      "Category dishwasher:\n",
      "Accuracy for dishwasher: 0.16%\n",
      "Category cell phone:\n",
      "Accuracy for cell phone: 0.22%\n",
      "Category eye:\n",
      "Accuracy for eye: 0.22%\n",
      "Category coffee cup:\n",
      "Accuracy for coffee cup: 0.19%\n",
      "Category star:\n",
      "Accuracy for star: 0.19%\n",
      "Category cruise ship:\n",
      "Accuracy for cruise ship: 0.17%\n",
      "Category passport:\n",
      "Accuracy for passport: 0.20%\n",
      "Category hat:\n",
      "Accuracy for hat: 0.17%\n",
      "Category pillow:\n",
      "Accuracy for pillow: 0.22%\n",
      "Category watermelon:\n",
      "Accuracy for watermelon: 0.22%\n",
      "Category face:\n",
      "Accuracy for face: 0.21%\n",
      "Category snowman:\n",
      "Accuracy for snowman: 0.10%\n"
     ]
    }
   ],
   "source": [
    "from utils import extract_best_entries, render_single, generate_pixel_columns, extract_random_entries\n",
    "from IPython.display import display, Image as IPImage\n",
    "import random\n",
    "import joblib\n",
    "from collections import Counter\n",
    "import numpy as np\n",
    "from sklearn.metrics import accuracy_score\n",
    "\n",
    "categories = list(map(lambda e : e[0], sorted_stats))\n",
    "\n",
    "for cat in categories:\n",
    "    hits = 0\n",
    "    print(f'Category {cat}:')\n",
    "    folder = f'./countries/{cat}/'\n",
    "    model = joblib.load(folder + 'model')\n",
    "    pca = joblib.load(folder + 'pca')\n",
    "    scaler = joblib.load(folder + 'scaler')\n",
    "\n",
    "    imgs = extract_random_entries(f'./dataset/{cat}.ndjson', 1000, recognized=True)\n",
    "    imgs = imgs[imgs['countrycode'].isin(countries)]\n",
    "    dfs = generate_pixel_columns(imgs, 32, 1, True).filter(regex='pixel.+')\n",
    "    X = scaler.transform(dfs.to_numpy())\n",
    "    X = pca.transform(X)\n",
    "    predictions = model.predict(X)\n",
    "    truth = imgs['countrycode'].to_numpy()\n",
    "    \n",
    "    accuracy = accuracy_score(truth, predictions, normalize=True)\n",
    "\n",
    "    print(f'Accuracy for {cat}: {\"{:.2f}\".format(accuracy)}%')\n"
   ]
  }
 ],
 "metadata": {
  "interpreter": {
   "hash": "916dbcbb3f70747c44a77c7bcd40155683ae19c65e1c03b4aa3499c5328201f1"
  },
  "kernelspec": {
   "display_name": "Python 3.9.7 64-bit",
   "language": "python",
   "name": "python3"
  },
  "language_info": {
   "codemirror_mode": {
    "name": "ipython",
    "version": 3
   },
   "file_extension": ".py",
   "mimetype": "text/x-python",
   "name": "python",
   "nbconvert_exporter": "python",
   "pygments_lexer": "ipython3",
   "version": "3.9.7"
  },
  "orig_nbformat": 4
 },
 "nbformat": 4,
 "nbformat_minor": 2
}
