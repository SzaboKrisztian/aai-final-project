{
 "cells": [
  {
   "cell_type": "code",
   "execution_count": 13,
   "metadata": {},
   "outputs": [
    {
     "name": "stdout",
     "output_type": "stream",
     "text": [
      "/home/chris/swd_2/aai/final-project/notebook\n",
      "/home/chris/swd_2/aai/final-project/notebook/runs/1638021011\n",
      "Fitting 5 folds for each of 3 candidates, totalling 15 fits\n",
      "[CV] END alpha=1e-06, hidden_layer_sizes=(376, 376, 376), solver=lbfgs; total time=  25.3s\n",
      "[CV] END alpha=1e-07, hidden_layer_sizes=(376, 376, 376), solver=lbfgs; total time=  25.7s\n",
      "[CV] END alpha=1e-07, hidden_layer_sizes=(376, 376, 376), solver=lbfgs; total time=  27.1s\n",
      "[CV] END alpha=1e-08, hidden_layer_sizes=(376, 376, 376), solver=lbfgs; total time=  27.3s\n",
      "[CV] END alpha=1e-06, hidden_layer_sizes=(376, 376, 376), solver=lbfgs; total time=  27.3s\n",
      "[CV] END alpha=1e-06, hidden_layer_sizes=(376, 376, 376), solver=lbfgs; total time=  27.4s\n",
      "[CV] END alpha=1e-08, hidden_layer_sizes=(376, 376, 376), solver=lbfgs; total time=  27.5s\n",
      "[CV] END alpha=1e-06, hidden_layer_sizes=(376, 376, 376), solver=lbfgs; total time=  27.7s\n",
      "[CV] END alpha=1e-07, hidden_layer_sizes=(376, 376, 376), solver=lbfgs; total time=  28.0s\n",
      "[CV] END alpha=1e-07, hidden_layer_sizes=(376, 376, 376), solver=lbfgs; total time=  28.1s\n",
      "[CV] END alpha=1e-06, hidden_layer_sizes=(376, 376, 376), solver=lbfgs; total time=  28.1s\n",
      "[CV] END alpha=1e-08, hidden_layer_sizes=(376, 376, 376), solver=lbfgs; total time=  28.4s\n",
      "[CV] END alpha=1e-07, hidden_layer_sizes=(376, 376, 376), solver=lbfgs; total time=  28.4s\n",
      "[CV] END alpha=1e-08, hidden_layer_sizes=(376, 376, 376), solver=lbfgs; total time=  28.5s\n",
      "[CV] END alpha=1e-08, hidden_layer_sizes=(376, 376, 376), solver=lbfgs; total time=  28.7s\n",
      "Best hyperparameters: {'alpha': 1e-07, 'hidden_layer_sizes': (376, 376, 376), 'solver': 'lbfgs'}\n"
     ]
    }
   ],
   "source": [
    "from sklearn.model_selection import GridSearchCV\n",
    "from sklearn.svm import SVC\n",
    "from sklearn.neural_network import MLPClassifier\n",
    "from utils import load_run\n",
    "from itertools import repeat\n",
    "\n",
    "run = load_run('1638021011')\n",
    "\n",
    "df = run['data']\n",
    "scaler = run['scaler']\n",
    "pca = run['pca']\n",
    "\n",
    "y = df['word'].to_numpy()\n",
    "X = df.drop(columns=['countrycode', 'timestamp', 'recognized', 'key_id', 'drawing', 'word']).to_numpy()\n",
    "X = scaler.transform(X)\n",
    "X = pca.transform(X)\n",
    "\n",
    "grid = GridSearchCV(\n",
    "    estimator=MLPClassifier(max_iter=1000),\n",
    "    param_grid={\n",
    "        'solver': ['lbfgs'],\n",
    "        'hidden_layer_sizes': [tuple(repeat(int(pca.n_components_ * 1.2), 3))],\n",
    "        'alpha': [1e-08, 1e-07, 1e-06]\n",
    "    },\n",
    "    refit=True,\n",
    "    verbose=2,\n",
    "    n_jobs=-1\n",
    ")\n",
    "\n",
    "grid.fit(X,y)\n",
    "\n",
    "print('Best hyperparameters:', grid.best_params_)"
   ]
  },
  {
   "cell_type": "markdown",
   "metadata": {},
   "source": [
    "# SVC\n",
    " - small-ish dataset: C=2.5, gamma=0.0001105\n",
    "\n",
    "# MLPClassifier\n",
    " - 5x1000: hidden_layer_sizes=tuple(repeat(int(pca.n_components_ * 1.2), 3)), solver='lbfgs', alpha=1e-07"
   ]
  }
 ],
 "metadata": {
  "interpreter": {
   "hash": "916dbcbb3f70747c44a77c7bcd40155683ae19c65e1c03b4aa3499c5328201f1"
  },
  "kernelspec": {
   "display_name": "Python 3.9.7 64-bit",
   "language": "python",
   "name": "python3"
  },
  "language_info": {
   "codemirror_mode": {
    "name": "ipython",
    "version": 3
   },
   "file_extension": ".py",
   "mimetype": "text/x-python",
   "name": "python",
   "nbconvert_exporter": "python",
   "pygments_lexer": "ipython3",
   "version": "3.9.7"
  },
  "orig_nbformat": 4
 },
 "nbformat": 4,
 "nbformat_minor": 2
}
