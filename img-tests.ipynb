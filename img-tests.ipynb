{
 "cells": [
  {
   "cell_type": "code",
   "execution_count": null,
   "metadata": {},
   "outputs": [],
   "source": [
    "from utils import extract_best_entries, extract_first_entries, extract_random_entries, render_multiple, render_single\n",
    "from ipyplot import plot_images\n",
    "from PIL import Image as pilimg\n",
    "import io\n",
    "\n",
    "r = True"
   ]
  },
  {
   "cell_type": "code",
   "execution_count": null,
   "metadata": {},
   "outputs": [],
   "source": [
    "files = './dataset/car.ndjson'\n",
    "\n",
    "dfs = [extract_first_entries(files, 1000, recognized=r), extract_random_entries(files, 1000, recognized=r), extract_best_entries(files, 1000, recognized=r)]\n",
    "print(list(map(lambda d: len(d), dfs)))\n",
    "dfs = list(map(lambda d: d['drawing'], dfs))\n",
    "imgbytes = list(map(lambda d: render_multiple(d), dfs))\n",
    "\n",
    "plot_images(list(map(lambda i: pilimg.open(io.BytesIO(i)), imgbytes)), max_images=6, img_width=256)"
   ]
  },
  {
   "cell_type": "code",
   "execution_count": null,
   "metadata": {},
   "outputs": [],
   "source": [
    "files = './dataset/car.ndjson'\n",
    "\n",
    "df = extract_best_entries(files, 1000, recognized=r)\n",
    "imgbytes = list(map(lambda d: render_single(d, resolution=64), df['drawing']))\n",
    "print(len(imgbytes))\n",
    "\n",
    "plot_images(list(map(lambda i: pilimg.open(io.BytesIO(i)), imgbytes)), max_images=-1, img_width=64)"
   ]
  }
 ],
 "metadata": {
  "interpreter": {
   "hash": "916dbcbb3f70747c44a77c7bcd40155683ae19c65e1c03b4aa3499c5328201f1"
  },
  "kernelspec": {
   "display_name": "Python 3.9.7 64-bit",
   "language": "python",
   "name": "python3"
  },
  "language_info": {
   "codemirror_mode": {
    "name": "ipython",
    "version": 3
   },
   "file_extension": ".py",
   "mimetype": "text/x-python",
   "name": "python",
   "nbconvert_exporter": "python",
   "pygments_lexer": "ipython3",
   "version": "3.9.7"
  },
  "orig_nbformat": 4
 },
 "nbformat": 4,
 "nbformat_minor": 2
}
