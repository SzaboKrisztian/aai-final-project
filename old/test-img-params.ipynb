{
 "cells": [
  {
   "cell_type": "code",
   "execution_count": 28,
   "metadata": {},
   "outputs": [
    {
     "name": "stdout",
     "output_type": "stream",
     "text": [
      "The autoreload extension is already loaded. To reload it, use:\n",
      "  %reload_ext autoreload\n"
     ]
    }
   ],
   "source": [
    "%load_ext autoreload\n",
    "%autoreload 2\n",
    "import pandas as pd\n",
    "import random\n",
    "import time\n",
    "import joblib\n",
    "import os\n",
    "from utils import render_single, render_multiple, get_dataset_files, extract_random_entries, extract_first_entries, generate_pixel_columns, load_run\n",
    "from IPython.display import display, Image as IPImage\n",
    "from sklearn.decomposition import PCA\n",
    "from sklearn.preprocessing import StandardScaler\n",
    "from sklearn.neural_network import MLPClassifier\n",
    "from itertools import repeat\n",
    "from sklearn.multiclass import OneVsRestClassifier"
   ]
  },
  {
   "cell_type": "code",
   "execution_count": 29,
   "metadata": {},
   "outputs": [
    {
     "name": "stdout",
     "output_type": "stream",
     "text": [
      "Loaded 5000 entries from ['./dataset/clock.ndjson', './dataset/bicycle.ndjson', './dataset/sailboat.ndjson', './dataset/house.ndjson', './dataset/car.ndjson']\n",
      "Done shuffling dataset\n"
     ]
    }
   ],
   "source": [
    "image_gen_params = [\n",
    "    {\n",
    "        'magnification': 4,\n",
    "        'resolution': 32,\n",
    "        'invert_color': True,\n",
    "        'stroke_width_scale': 1\n",
    "    },\n",
    "    {\n",
    "        'magnification': 4,\n",
    "        'resolution': 64,\n",
    "        'invert_color': True,\n",
    "        'stroke_width_scale': 3\n",
    "    },\n",
    "    {\n",
    "        'magnification': 2,\n",
    "        'resolution': 32,\n",
    "        'invert_color': True,\n",
    "        'stroke_width_scale': 1\n",
    "    },\n",
    "    {\n",
    "        'magnification': 2,\n",
    "        'resolution': 64,\n",
    "        'invert_color': True,\n",
    "        'stroke_width_scale': 3\n",
    "    },\n",
    "    {\n",
    "        'magnification': 1,\n",
    "        'resolution': 32,\n",
    "        'invert_color': True,\n",
    "        'stroke_width_scale': 1\n",
    "    },\n",
    "    {\n",
    "        'magnification': 1,\n",
    "        'resolution': 64,\n",
    "        'invert_color': True,\n",
    "        'stroke_width_scale': 3\n",
    "    },\n",
    "]\n",
    "\n",
    "entries_per_cat = 1000\n",
    "\n",
    "files = ['./dataset/clock.ndjson', './dataset/bicycle.ndjson', './dataset/sailboat.ndjson', './dataset/house.ndjson', './dataset/car.ndjson']\n",
    "data = [extract_first_entries(file, entries_per_cat, recognized=True) for file in files]\n",
    "flat_data = [item for sublist in data for item in sublist]\n",
    "df = pd.DataFrame.from_dict(flat_data, orient='columns')\n",
    "print(f'Loaded {len(df)} entries from {files}')\n",
    "df = df.sample(len(df))\n",
    "print('Done shuffling dataset')"
   ]
  },
  {
   "cell_type": "code",
   "execution_count": 30,
   "metadata": {},
   "outputs": [
    {
     "data": {
      "image/png": "[encoded data removed]",
      "text/plain": [
       "<IPython.core.display.Image object>"
      ]
     },
     "metadata": {},
     "output_type": "display_data"
    },
    {
     "data": {
      "image/png": "[encoded data removed]",
      "text/plain": [
       "<IPython.core.display.Image object>"
      ]
     },
     "metadata": {},
     "output_type": "display_data"
    },
    {
     "data": {
      "image/png": "[encoded data removed]",
      "text/plain": [
       "<IPython.core.display.Image object>"
      ]
     },
     "metadata": {},
     "output_type": "display_data"
    },
    {
     "data": {
      "image/png": "[encoded data removed]",
      "text/plain": [
       "<IPython.core.display.Image object>"
      ]
     },
     "metadata": {},
     "output_type": "display_data"
    },
    {
     "data": {
      "image/png": "[encoded data removed]",
      "text/plain": [
       "<IPython.core.display.Image object>"
      ]
     },
     "metadata": {},
     "output_type": "display_data"
    },
    {
     "data": {
      "image/png": "[encoded data removed]",
      "text/plain": [
       "<IPython.core.display.Image object>"
      ]
     },
     "metadata": {},
     "output_type": "display_data"
    }
   ],
   "source": [
    "img = df.sample().iloc[0]\n",
    "for params in image_gen_params:\n",
    "    display(IPImage(render_single(img['drawing'], **params)))"
   ]
  },
  {
   "cell_type": "code",
   "execution_count": 31,
   "metadata": {},
   "outputs": [
    {
     "name": "stdout",
     "output_type": "stream",
     "text": [
      "Done generating pixel columns with params {'magnification': 4, 'resolution': 32, 'invert_color': True, 'stroke_width_scale': 1}\n",
      "Done generating pixel columns with params {'magnification': 4, 'resolution': 64, 'invert_color': True, 'stroke_width_scale': 3}\n",
      "Done generating pixel columns with params {'magnification': 2, 'resolution': 32, 'invert_color': True, 'stroke_width_scale': 1}\n",
      "Done generating pixel columns with params {'magnification': 2, 'resolution': 64, 'invert_color': True, 'stroke_width_scale': 3}\n",
      "Done generating pixel columns with params {'magnification': 1, 'resolution': 32, 'invert_color': True, 'stroke_width_scale': 1}\n",
      "Done generating pixel columns with params {'magnification': 1, 'resolution': 64, 'invert_color': True, 'stroke_width_scale': 3}\n"
     ]
    }
   ],
   "source": [
    "result = []\n",
    "for params in image_gen_params:\n",
    "    result.append({ 'data': generate_pixel_columns(df, **params).reset_index(drop=True) })\n",
    "    print(f'Done generating pixel columns with params {params}')"
   ]
  },
  {
   "cell_type": "code",
   "execution_count": 32,
   "metadata": {},
   "outputs": [
    {
     "name": "stdout",
     "output_type": "stream",
     "text": [
      "Processing dataset 1/6...\n",
      "Done splitting dataset\n",
      "Done generating features and target\n",
      "PCA & standardization done. Keeping 302 features\n",
      "Processing dataset 2/6...\n",
      "Done splitting dataset\n",
      "Done generating features and target\n",
      "PCA & standardization done. Keeping 294 features\n",
      "Processing dataset 3/6...\n",
      "Done splitting dataset\n",
      "Done generating features and target\n",
      "PCA & standardization done. Keeping 322 features\n",
      "Processing dataset 4/6...\n",
      "Done splitting dataset\n",
      "Done generating features and target\n",
      "PCA & standardization done. Keeping 310 features\n",
      "Processing dataset 5/6...\n",
      "Done splitting dataset\n",
      "Done generating features and target\n",
      "PCA & standardization done. Keeping 479 features\n",
      "Processing dataset 6/6...\n",
      "Done splitting dataset\n",
      "Done generating features and target\n",
      "PCA & standardization done. Keeping 495 features\n"
     ]
    }
   ],
   "source": [
    "for i, entry in enumerate(result):\n",
    "    data = entry['data']\n",
    "    print(f'Processing dataset {i + 1}/{len(result)}...')\n",
    "    train_amt = int(len(data) * .9)\n",
    "\n",
    "    train = data[:train_amt]\n",
    "    test = data[train_amt:]\n",
    "\n",
    "    train = train.reset_index(drop=True)\n",
    "    test = test.reset_index(drop=True)\n",
    "    print(f'Done splitting dataset')\n",
    "\n",
    "    y = train['word'].to_numpy()\n",
    "    X = train.drop(columns=['countrycode', 'timestamp', 'recognized', 'key_id', 'drawing', 'word']).to_numpy()\n",
    "    print(\"Done generating features and target\")\n",
    "\n",
    "    scaler = StandardScaler()\n",
    "    X = scaler.fit_transform(X)\n",
    "    pca = PCA(.85)\n",
    "    X = pca.fit_transform(X)\n",
    "    print(f'PCA & standardization done. Keeping {pca.n_components_} features')\n",
    "    entry['train'] = train\n",
    "    entry['test'] = test\n",
    "    entry['scaler'] = scaler\n",
    "    entry['pca'] = pca"
   ]
  },
  {
   "cell_type": "code",
   "execution_count": 33,
   "metadata": {},
   "outputs": [
    {
     "name": "stdout",
     "output_type": "stream",
     "text": [
      "Done training model in 8.97s\n",
      "Done training model in 10.35s\n",
      "Done training model in 9.64s\n",
      "Done training model in 11.14s\n",
      "Done training model in 23.70s\n",
      "Done training model in 26.16s\n"
     ]
    }
   ],
   "source": [
    "start = time.time()\n",
    "for entry in result:\n",
    "    train = entry['train']\n",
    "    test = entry['test']\n",
    "    pca = entry['pca']\n",
    "    scaler = entry['scaler']\n",
    "    classifier = MLPClassifier(hidden_layer_sizes=tuple(repeat(int(pca.n_components_ * 1.2), 3)), solver='lbfgs', alpha=1e-07)\n",
    "    y = train['word'].to_numpy()\n",
    "    X = train.drop(columns=['countrycode', 'timestamp', 'recognized', 'key_id', 'drawing', 'word']).to_numpy()\n",
    "    X = scaler.transform(X)\n",
    "    X = pca.transform(X)\n",
    "    entry['model'] = OneVsRestClassifier(classifier, n_jobs=-1).fit(X, y)\n",
    "    end = time.time()\n",
    "    print(f\"Done training model in {'{:.2f}'.format(end - start)}s\")\n",
    "    start = end\n",
    "    "
   ]
  },
  {
   "cell_type": "code",
   "execution_count": 34,
   "metadata": {},
   "outputs": [
    {
     "name": "stdout",
     "output_type": "stream",
     "text": [
      "{'magnification': 4, 'resolution': 32, 'invert_color': True, 'stroke_width_scale': 1}, accuracy: 0.952\n",
      "{'magnification': 4, 'resolution': 64, 'invert_color': True, 'stroke_width_scale': 3}, accuracy: 0.94\n",
      "{'magnification': 2, 'resolution': 32, 'invert_color': True, 'stroke_width_scale': 1}, accuracy: 0.934\n",
      "{'magnification': 2, 'resolution': 64, 'invert_color': True, 'stroke_width_scale': 3}, accuracy: 0.956\n",
      "{'magnification': 1, 'resolution': 32, 'invert_color': True, 'stroke_width_scale': 1}, accuracy: 0.912\n",
      "{'magnification': 1, 'resolution': 64, 'invert_color': True, 'stroke_width_scale': 3}, accuracy: 0.93\n"
     ]
    }
   ],
   "source": [
    "from sklearn.metrics import accuracy_score\n",
    "\n",
    "for i, entry in enumerate(result):\n",
    "    scaler = entry['scaler']\n",
    "    pca = entry['pca']\n",
    "    model = entry['model']\n",
    "    test = entry['test'].drop(columns=['countrycode', 'timestamp', 'recognized', 'key_id', 'drawing', 'word']).to_numpy()\n",
    "    test = scaler.transform(test)\n",
    "    test = pca.transform(test)\n",
    "    prediction = model.predict(test)\n",
    "\n",
    "    acc_score = accuracy_score(entry['test']['word'].values.tolist(), prediction)\n",
    "    print(f\"{image_gen_params[i]}, accuracy: {acc_score}\")"
   ]
  },
  {
   "cell_type": "markdown",
   "metadata": {},
   "source": [
    "{'magnification': 4, 'resolution': 32, 'invert_color': True, 'stroke_width_scale': 1}, accuracy: 0.924\n",
    "{'magnification': 4, 'resolution': 48, 'invert_color': True, 'stroke_width_scale': 2}, accuracy: 0.914\n",
    "{'magnification': 4, 'resolution': 64, 'invert_color': True, 'stroke_width_scale': 3}, accuracy: 0.922\n",
    "\n",
    "{'magnification': 4, 'resolution': 32, 'invert_color': True, 'stroke_width_scale': 1}, accuracy: 0.924\n",
    "{'magnification': 4, 'resolution': 64, 'invert_color': True, 'stroke_width_scale': 3}, accuracy: 0.928\n",
    "{'magnification': 4, 'resolution': 32, 'invert_color': False, 'stroke_width_scale': 1}, accuracy: 0.928\n",
    "{'magnification': 4, 'resolution': 64, 'invert_color': False, 'stroke_width_scale': 3}, accuracy: 0.926\n",
    "\n",
    "{'magnification': 4, 'resolution': 32, 'invert_color': True, 'stroke_width_scale': 1}, accuracy: 0.952\n",
    "{'magnification': 4, 'resolution': 64, 'invert_color': True, 'stroke_width_scale': 3}, accuracy: 0.94\n",
    "{'magnification': 2, 'resolution': 32, 'invert_color': True, 'stroke_width_scale': 1}, accuracy: 0.934\n",
    "{'magnification': 2, 'resolution': 64, 'invert_color': True, 'stroke_width_scale': 3}, accuracy: 0.956\n",
    "{'magnification': 1, 'resolution': 32, 'invert_color': True, 'stroke_width_scale': 1}, accuracy: 0.912\n",
    "{'magnification': 1, 'resolution': 64, 'invert_color': True, 'stroke_width_scale': 3}, accuracy: 0.93"
   ]
  }
 ],
 "metadata": {
  "interpreter": {
   "hash": "916dbcbb3f70747c44a77c7bcd40155683ae19c65e1c03b4aa3499c5328201f1"
  },
  "kernelspec": {
   "display_name": "Python 3.9.7 64-bit",
   "language": "python",
   "name": "python3"
  },
  "language_info": {
   "codemirror_mode": {
    "name": "ipython",
    "version": 3
   },
   "file_extension": ".py",
   "mimetype": "text/x-python",
   "name": "python",
   "nbconvert_exporter": "python",
   "pygments_lexer": "ipython3",
   "version": "3.9.7"
  },
  "orig_nbformat": 4
 },
 "nbformat": 4,
 "nbformat_minor": 2
}
