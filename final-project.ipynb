{
 "cells": [
  {
   "cell_type": "code",
   "execution_count": null,
   "id": "55bd4fd6",
   "metadata": {},
   "outputs": [],
   "source": [
    "%load_ext autoreload\n",
    "%autoreload 2\n",
    "import pandas as pd\n",
    "import random\n",
    "from utils import render_single, render_multiple, get_dataset_files, extract_random_entries, generate_pixel_columns\n",
    "from IPython.display import display, Image as IPImage"
   ]
  },
  {
   "cell_type": "code",
   "execution_count": null,
   "id": "6c021e31",
   "metadata": {},
   "outputs": [],
   "source": [
    "#files = get_dataset_files()\n",
    "#files = random.choices(files, k=10)\n",
    "files = ['../dataset/line.ndjson', '../dataset/mountain.ndjson', '../dataset/yoga.ndjson', '../dataset/bee.ndjson', '../dataset/binoculars.ndjson', '../dataset/snowman.ndjson', '../dataset/squiggle.ndjson', '../dataset/church.ndjson', '../dataset/guitar.ndjson', '../dataset/house.ndjson']\n",
    "data = [extract_random_entries(file, 10000, recognized=True) for file in files]\n",
    "flat_data = [item for sublist in data for item in sublist]\n",
    "df = pd.DataFrame.from_dict(flat_data, orient='columns')\n",
    "word = flat_data[0]['word']\n",
    "print(f'Loaded {len(df)} entries from {files}')"
   ]
  },
  {
   "cell_type": "code",
   "execution_count": null,
   "id": "b2bdfd1e",
   "metadata": {},
   "outputs": [],
   "source": [
    "img = random.choice(flat_data)['drawing']\n",
    "display(IPImage(render_single(img)))"
   ]
  },
  {
   "cell_type": "code",
   "execution_count": null,
   "id": "58443c4a",
   "metadata": {},
   "outputs": [],
   "source": [
    "imgs = df.sample(1000)['drawing']\n",
    "display(IPImage(render_multiple(imgs)))"
   ]
  },
  {
   "cell_type": "code",
   "execution_count": null,
   "id": "b4dd1514",
   "metadata": {},
   "outputs": [],
   "source": [
    "df2 = df.sample(len(df))\n",
    "train_amt = int(len(df2) * .80)\n",
    "\n",
    "train = df2[:train_amt]\n",
    "test = df2[train_amt:]\n",
    "\n",
    "train = train.reset_index()\n",
    "test = test.reset_index()\n",
    "\n",
    "train_processed = generate_pixel_columns(train, resolution=28, invert_color=True).drop(columns=['countrycode', 'timestamp', 'recognized', 'key_id', 'drawing'])\n",
    "test_processed = generate_pixel_columns(test, resolution=28, invert_color=True)\n",
    "print(f'Train: {len(train_processed)} entries, test: {len(test_processed)} entries.')\n",
    "print(train_processed.sample(1))"
   ]
  },
  {
   "cell_type": "code",
   "execution_count": null,
   "id": "e4275f6f",
   "metadata": {},
   "outputs": [],
   "source": [
    "from sklearn.multiclass import OneVsRestClassifier\n",
    "from sklearn.svm import LinearSVC\n",
    "import time\n",
    "import joblib\n",
    "\n",
    "y = train_processed['word']\n",
    "X = train_processed.drop(columns=['word'])\n",
    "\n",
    "model = OneVsRestClassifier(LinearSVC(random_state=0, max_iter=10000, dual=False), n_jobs=-1).fit(X, y)\n",
    "filename = '../model' + str(int(time.time()))\n",
    "filedata = joblib.dump(model, filename)"
   ]
  },
  {
   "cell_type": "code",
   "execution_count": null,
   "metadata": {},
   "outputs": [],
   "source": [
    "sample = test_processed.sample(1)\n",
    "sample_predict = sample.drop(columns=['countrycode', 'timestamp', 'recognized', 'key_id', 'drawing', 'word'])\n",
    "\n",
    "prediction = model.predict(sample_predict)\n",
    "display(IPImage(render_single(sample['drawing'].iloc[0])))\n",
    "print(prediction[0])\n",
    "print(f\"{sample['word'].iloc[0]} == {prediction[0]} ? {sample['word'].iloc[0] == prediction[0]}\")"
   ]
  }
 ],
 "metadata": {
  "interpreter": {
   "hash": "e7370f93d1d0cde622a1f8e1c04877d8463912d04d973331ad4851f04de6915a"
  },
  "kernelspec": {
   "display_name": "Python 3.9.7 64-bit",
   "name": "python3"
  },
  "language_info": {
   "codemirror_mode": {
    "name": "ipython",
    "version": 3
   },
   "file_extension": ".py",
   "mimetype": "text/x-python",
   "name": "python",
   "nbconvert_exporter": "python",
   "pygments_lexer": "ipython3",
   "version": "3.9.7"
  }
 },
 "nbformat": 4,
 "nbformat_minor": 5
}
