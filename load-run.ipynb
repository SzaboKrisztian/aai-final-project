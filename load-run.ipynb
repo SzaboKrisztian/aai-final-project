{
    "cells": [
        {
            "cell_type": "code",
            "execution_count": 6,
            "metadata": {},
            "outputs": [
                {
                    "name": "stdout",
                    "output_type": "stream",
                    "text": [
                        "The autoreload extension is already loaded. To reload it, use:\n",
                        "  %reload_ext autoreload\n"
                    ]
                }
            ],
            "source": [
                "%load_ext autoreload\n",
                "%autoreload 2"
            ]
        },
        {
            "cell_type": "code",
            "execution_count": 2,
            "metadata": {},
            "outputs": [
                {
                    "name": "stdout",
                    "output_type": "stream",
                    "text": [
                        "/home/chris/swd_2/aai/final-project/notebook\n",
                        "/home/chris/swd_2/aai/final-project/notebook/runs/1638016917\n",
                        "['castle', 'ambulance', 'pizza']\n",
                        "Loaded 3000 entries from ['./dataset/castle.ndjson', './dataset/ambulance.ndjson', './dataset/pizza.ndjson']\n",
                        "Done generating pixel columns\n",
                        "Done loading run. PCA found.\n",
                        "Predicting for classifier LinearSVC\n",
                        "Scoring performance of classifier LinearSVC\n",
                        "Predicting for classifier NuSVC\n",
                        "Scoring performance of classifier NuSVC\n",
                        "Predicting for classifier SGDClassifier\n",
                        "Scoring performance of classifier SGDClassifier\n",
                        "Predicting for classifier SVC\n",
                        "Scoring performance of classifier SVC\n",
                        "Predicting for classifier LinearDiscriminantAnalysis\n",
                        "Scoring performance of classifier LinearDiscriminantAnalysis\n",
                        "Predicting for classifier QuadraticDiscriminantAnalysis\n",
                        "Scoring performance of classifier QuadraticDiscriminantAnalysis\n",
                        "Predicting for classifier MLPClassifier\n",
                        "Scoring performance of classifier MLPClassifier\n",
                        "Predicting for classifier DecisionTreeClassifier\n",
                        "Scoring performance of classifier DecisionTreeClassifier\n",
                        "Predicting for classifier ExtraTreeClassifier\n",
                        "Scoring performance of classifier ExtraTreeClassifier\n",
                        "Predicting for classifier KernelRidge\n",
                        "Scoring performance of classifier KernelRidge\n",
                        "LinearSVC classifier, accuracy: 0.771\n",
                        "NuSVC classifier, accuracy: 0.915\n",
                        "SGDClassifier classifier, accuracy: 0.385\n",
                        "SVC classifier, accuracy: 0.878\n",
                        "LinearDiscriminantAnalysis classifier, accuracy: 0.828\n",
                        "QuadraticDiscriminantAnalysis classifier, accuracy: 0.871\n",
                        "MLPClassifier classifier, accuracy: 0.866\n",
                        "DecisionTreeClassifier classifier, accuracy: 0.713\n",
                        "ExtraTreeClassifier classifier, accuracy: 0.477\n",
                        "KernelRidge classifier, accuracy: 0.827\n"
                    ]
                }
            ],
            "source": [
                "from utils import load_run, extract_random_entries, generate_pixel_columns\n",
                "import pandas as pd\n",
                "from sklearn.metrics import accuracy_score\n",
                "\n",
                "run = load_run('1638016917')\n",
                "if run is None:\n",
                "    raise Exception(\"Invalid run id\")\n",
                "\n",
                "num_entries = 1000\n",
                "\n",
                "og_data = run['data']\n",
                "cats = list(og_data['word'].value_counts().keys())\n",
                "print(cats)\n",
                "\n",
                "files = list(map(lambda c: f'./dataset/{c}.ndjson', cats))\n",
                "try:\n",
                "    img_params = run['img_params']\n",
                "except KeyError:\n",
                "    raise Exception(\"Unknown image params. Aborting\")\n",
                "\n",
                "\n",
                "data = [extract_random_entries(file, num_entries, recognized=True) for file in files]\n",
                "flat_data = [item for sublist in data for item in sublist]\n",
                "df = pd.DataFrame.from_dict(flat_data, orient='columns')\n",
                "print(f'Loaded {len(df)} entries from {files}')\n",
                "df = generate_pixel_columns(df, **img_params)\n",
                "print('Done generating pixel columns')\n",
                "data = df.reset_index(drop=True)\n",
                "\n",
                "models = run['models']\n",
                "pca = run['pca'] if 'pca' in run else None\n",
                "scaler = run['scaler'] if 'scaler' in run else None\n",
                "print(f\"Done loading run. PCA {'not ' if pca is None else ''}found.\")\n",
                "\n",
                "sample = data.sample(1000 if len(data) >= 1000 else len(data)).reset_index(drop=True)\n",
                "target = sample['word'].values.tolist()\n",
                "test = sample.drop(columns=['countrycode', 'timestamp', 'recognized', 'key_id', 'drawing', 'word']).to_numpy()\n",
                "\n",
                "scores = {}\n",
                "if pca is not None:\n",
                "    test = scaler.transform(test)\n",
                "    test = pca.transform(test)\n",
                "\n",
                "for cls_type, model in models.items():\n",
                "    print(f'Predicting for classifier {cls_type}')\n",
                "    prediction = model.predict(test)\n",
                "    \n",
                "    print(f\"Scoring performance of classifier {cls_type}\")\n",
                "    acc_score = accuracy_score(target, prediction)\n",
                "    scores[cls_type] = acc_score\n",
                "\n",
                "for cls_type, score in scores.items():\n",
                "    print(f\"{cls_type} classifier, accuracy: {score}\")"
            ]
        }
    ],
    "metadata": {
        "interpreter": {
            "hash": "e7370f93d1d0cde622a1f8e1c04877d8463912d04d973331ad4851f04de6915a"
        },
        "kernelspec": {
            "display_name": "Python 3.9.7 64-bit",
            "name": "python3"
        },
        "language_info": {
            "codemirror_mode": {
                "name": "ipython",
                "version": 3
            },
            "file_extension": ".py",
            "mimetype": "text/x-python",
            "name": "python",
            "nbconvert_exporter": "python",
            "pygments_lexer": "ipython3",
            "version": "3.9.7"
        },
        "orig_nbformat": 4
    },
    "nbformat": 4,
    "nbformat_minor": 2
}
