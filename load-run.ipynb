{
    "cells": [
        {
            "cell_type": "code",
            "execution_count": 1,
            "metadata": {},
            "outputs": [],
            "source": [
                "%load_ext autoreload\n",
                "%autoreload 2"
            ]
        },
        {
            "cell_type": "code",
            "execution_count": 5,
            "metadata": {},
            "outputs": [
                {
                    "name": "stdout",
                    "output_type": "stream",
                    "text": [
                        "/home/chris/swd_2/aai/final-project/notebook\n",
                        "/home/chris/swd_2/aai/final-project/notebook/runs/1638008947\n",
                        "['panda', 'sheep', 'tennis racquet', 'lantern', 'blueberry']\n",
                        "<class 'dict'>\n",
                        "Loaded 5000 entries from ['./dataset/panda.ndjson', './dataset/sheep.ndjson', './dataset/tennis racquet.ndjson', './dataset/lantern.ndjson', './dataset/blueberry.ndjson']\n",
                        "Done generating pixel columns\n",
                        "Done loading run. PCA found.\n",
                        "Predicting...\n",
                        "Done\n",
                        "Scoring...\n",
                        "Accuracy score: 0.862\n"
                    ]
                }
            ],
            "source": [
                "from utils import load_run, extract_random_entries, generate_pixel_columns\n",
                "import pandas as pd\n",
                "\n",
                "run = load_run('1638008947')\n",
                "if run is None:\n",
                "    raise Exception(\"Invalid run id\")\n",
                "\n",
                "num_entries = 1000\n",
                "\n",
                "og_data = run['data']\n",
                "cats = list(og_data['word'].value_counts().keys())\n",
                "print(cats)\n",
                "\n",
                "files = list(map(lambda c: f'./dataset/{c}.ndjson', cats))\n",
                "try:\n",
                "    img_params = run['img_params']\n",
                "except KeyError:\n",
                "    raise Exception(\"Unknown image params. Aborting\")\n",
                "\n",
                "\n",
                "data = [extract_random_entries(file, num_entries, recognized=True) for file in files]\n",
                "flat_data = [item for sublist in data for item in sublist]\n",
                "df = pd.DataFrame.from_dict(flat_data, orient='columns')\n",
                "print(f'Loaded {len(df)} entries from {files}')\n",
                "df = generate_pixel_columns(df, **img_params)\n",
                "print('Done generating pixel columns')\n",
                "data = df.reset_index(drop=True)\n",
                "\n",
                "model = run['model']\n",
                "pca = run['pca'] if 'pca' in run else None\n",
                "scaler = run['scaler'] if 'scaler' in run else None\n",
                "print(f\"Done loading run. PCA {'not ' if pca is None else ''}found.\")\n",
                "\n",
                "sample = data.sample(1000 if len(data) >= 1000 else len(data)).reset_index(drop=True)\n",
                "target = sample['word'].values.tolist()\n",
                "test = sample.drop(columns=['countrycode', 'timestamp', 'recognized', 'key_id', 'drawing', 'word']).to_numpy()\n",
                "\n",
                "print('Predicting...')\n",
                "if pca is not None:\n",
                "    test = scaler.transform(test)\n",
                "    test = pca.transform(test)\n",
                "prediction = model.predict(test)\n",
                "print('Done')\n",
                "\n",
                "from sklearn.metrics import accuracy_score\n",
                "print(\"Scoring...\")\n",
                "acc_score = accuracy_score(target, prediction)\n",
                "print(f\"Accuracy score: {acc_score}\")"
            ]
        }
    ],
    "metadata": {
        "interpreter": {
            "hash": "e7370f93d1d0cde622a1f8e1c04877d8463912d04d973331ad4851f04de6915a"
        },
        "kernelspec": {
            "display_name": "Python 3.9.7 64-bit",
            "name": "python3"
        },
        "language_info": {
            "codemirror_mode": {
                "name": "ipython",
                "version": 3
            },
            "file_extension": ".py",
            "mimetype": "text/x-python",
            "name": "python",
            "nbconvert_exporter": "python",
            "pygments_lexer": "ipython3",
            "version": "3.9.7"
        },
        "orig_nbformat": 4
    },
    "nbformat": 4,
    "nbformat_minor": 2
}
