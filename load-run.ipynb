{
    "cells": [
        {
            "cell_type": "code",
            "execution_count": 17,
            "source": [
                "%load_ext autoreload\n",
                "%autoreload 2"
            ],
            "outputs": [
                {
                    "output_type": "stream",
                    "name": "stdout",
                    "text": [
                        "The autoreload extension is already loaded. To reload it, use:\n",
                        "  %reload_ext autoreload\n"
                    ]
                }
            ],
            "metadata": {}
        },
        {
            "cell_type": "code",
            "execution_count": 23,
            "source": [
                "from utils import load_run\n",
                "\n",
                "run = load_run('1637919080')\n",
                "if run is None:\n",
                "    raise Exception(\"Invalid run id\")\n",
                "\n",
                "data = run['data']\n",
                "model = run['model']\n",
                "pca = run['pca'] if 'pca' in run else None\n",
                "scaler = run['scaler'] if 'scaler' in run else None\n",
                "print(f\"Done loading run. PCA {'not ' if pca is None else ''}found.\")\n",
                "\n",
                "sample = data.sample(1000 if len(data) >= 1000 else len(data)).reset_index(drop=True)\n",
                "target = sample['word'].values.tolist()\n",
                "test = sample.drop(columns=['countrycode', 'timestamp', 'recognized', 'key_id', 'drawing', 'word']).to_numpy()\n",
                "\n",
                "print('Predicting...')\n",
                "if pca is not None:\n",
                "    test = scaler.transform(test)\n",
                "    test = pca.transform(test)\n",
                "prediction = model.predict(test)\n",
                "print('Done')\n",
                "\n",
                "from sklearn.metrics import accuracy_score\n",
                "print(\"Scoring...\")\n",
                "acc_score = accuracy_score(target, prediction)\n",
                "print(f\"Accuracy score: {acc_score}\")"
            ],
            "outputs": [
                {
                    "output_type": "stream",
                    "name": "stdout",
                    "text": [
                        "/home/chris/swd_2/applied-ai/final-project/notebook\n",
                        "/home/chris/swd_2/applied-ai/final-project/notebook/runs/1637914716\n",
                        "Done loading run. PCA found.\n",
                        "Predicting...\n",
                        "Done\n",
                        "Scoring...\n",
                        "Accuracy score: 0.993\n"
                    ]
                }
            ],
            "metadata": {}
        }
    ],
    "metadata": {
        "orig_nbformat": 4,
        "language_info": {
            "name": "python",
            "version": "3.9.7",
            "mimetype": "text/x-python",
            "codemirror_mode": {
                "name": "ipython",
                "version": 3
            },
            "pygments_lexer": "ipython3",
            "nbconvert_exporter": "python",
            "file_extension": ".py"
        },
        "kernelspec": {
            "name": "python3",
            "display_name": "Python 3.9.7 64-bit"
        },
        "interpreter": {
            "hash": "e7370f93d1d0cde622a1f8e1c04877d8463912d04d973331ad4851f04de6915a"
        }
    },
    "nbformat": 4,
    "nbformat_minor": 2
}