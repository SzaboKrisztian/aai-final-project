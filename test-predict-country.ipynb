{
 "cells": [
  {
   "cell_type": "code",
   "execution_count": 8,
   "source": [
    "%load_ext autoreload\n",
    "%autoreload 2\n",
    "import pandas as pd\n",
    "import random\n",
    "import time\n",
    "import joblib\n",
    "import os\n",
    "from utils import render_single, render_multiple, get_dataset_files, extract_random_entries, extract_first_entries, generate_pixel_columns, load_run, extract_best_entries\n",
    "from IPython.display import display"
   ],
   "outputs": [
    {
     "output_type": "stream",
     "name": "stdout",
     "text": [
      "The autoreload extension is already loaded. To reload it, use:\n",
      "  %reload_ext autoreload\n"
     ]
    }
   ],
   "metadata": {}
  },
  {
   "cell_type": "code",
   "execution_count": 9,
   "source": [
    "category = 'car'\n",
    "image_gen_params = {\n",
    "    'magnification': 1,\n",
    "    'resolution': 32,\n",
    "    'invert_color': True,\n",
    "    'stroke_width_scale': 1\n",
    "}\n",
    "\n",
    "if category is None:\n",
    "    raise Exception(\"Must select a category\")\n",
    "\n",
    "df = extract_best_entries(f'./dataset/{category}.ndjson', 2000, recognized=True)\n",
    "df = generate_pixel_columns(df, **image_gen_params)\n",
    "df = df.drop(columns=['word', 'timestamp', 'recognized', 'key_id', 'complexity', 'drawing'])"
   ],
   "outputs": [],
   "metadata": {}
  },
  {
   "cell_type": "code",
   "execution_count": 10,
   "source": [
    "train_amt = int(len(df) * .9)\n",
    "\n",
    "train = df[:train_amt]\n",
    "test = df[train_amt:]\n",
    "# del df\n",
    "\n",
    "train = train.reset_index(drop=True)\n",
    "test = test.reset_index(drop=True)\n",
    "\n",
    "print(f'Train: {len(train)} entries, test: {len(test)} entries.')"
   ],
   "outputs": [
    {
     "output_type": "stream",
     "name": "stdout",
     "text": [
      "Train: 1800 entries, test: 200 entries.\n"
     ]
    }
   ],
   "metadata": {}
  },
  {
   "cell_type": "code",
   "execution_count": 11,
   "source": [
    "from sklearn.decomposition import PCA\n",
    "from sklearn.preprocessing import StandardScaler\n",
    "from sklearn.multiclass import OneVsRestClassifier\n",
    "from sklearn.neural_network import MLPClassifier\n",
    "from itertools import repeat\n",
    "import time\n",
    "\n",
    "y = train['countrycode'].to_numpy()\n",
    "X = train.drop(columns=['countrycode']).to_numpy()\n",
    "print(\"Done generating features and target\")\n",
    "\n",
    "scaler = StandardScaler()\n",
    "X = scaler.fit_transform(X)\n",
    "pca = PCA(.85)\n",
    "X = pca.fit_transform(X)\n",
    "print(f'PCA & standardization done. Keeping {pca.n_components_} features')\n",
    "\n",
    "classifier = MLPClassifier(hidden_layer_sizes=tuple(repeat(int(pca.n_components_ * 1.2), 3)), solver='lbfgs', alpha=1e-07)\n",
    "start = time.time()\n",
    "model = OneVsRestClassifier(classifier, n_jobs=-1).fit(X, y)\n",
    "end = time.time()\n",
    "print(f\"Done training model in {'{:.2f}'.format(end - start)}s\")"
   ],
   "outputs": [
    {
     "output_type": "stream",
     "name": "stdout",
     "text": [
      "[[0. 0. 0. ... 0. 0. 0.]\n",
      " [0. 0. 0. ... 0. 0. 0.]\n",
      " [0. 0. 0. ... 0. 0. 0.]\n",
      " ...\n",
      " [0. 0. 0. ... 0. 0. 0.]\n",
      " [0. 0. 0. ... 0. 0. 0.]\n",
      " [0. 0. 0. ... 0. 0. 0.]]\n",
      "Done generating features and target\n",
      "PCA & standardization done. Keeping 386 features\n",
      "Done training model in 191.37s\n"
     ]
    }
   ],
   "metadata": {}
  },
  {
   "cell_type": "code",
   "execution_count": 14,
   "source": [
    "test2 = test.drop(columns=['countrycode']).to_numpy()\n",
    "test2 = scaler.transform(test2)\n",
    "test2 = pca.transform(test2)\n",
    "prediction = model.predict(test2)\n",
    "\n",
    "from sklearn.metrics import accuracy_score\n",
    "acc_score = accuracy_score(test['countrycode'].values.tolist(), prediction)\n",
    "print(f\"Accuracy: {acc_score}\")"
   ],
   "outputs": [
    {
     "output_type": "stream",
     "name": "stdout",
     "text": [
      "Accuracy: 0.39\n"
     ]
    }
   ],
   "metadata": {}
  },
  {
   "cell_type": "code",
   "execution_count": null,
   "source": [],
   "outputs": [],
   "metadata": {}
  }
 ],
 "metadata": {
  "orig_nbformat": 4,
  "language_info": {
   "name": "python",
   "version": "3.9.7",
   "mimetype": "text/x-python",
   "codemirror_mode": {
    "name": "ipython",
    "version": 3
   },
   "pygments_lexer": "ipython3",
   "nbconvert_exporter": "python",
   "file_extension": ".py"
  },
  "kernelspec": {
   "name": "python3",
   "display_name": "Python 3.9.7 64-bit"
  },
  "interpreter": {
   "hash": "e7370f93d1d0cde622a1f8e1c04877d8463912d04d973331ad4851f04de6915a"
  }
 },
 "nbformat": 4,
 "nbformat_minor": 2
}