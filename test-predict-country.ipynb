{
 "cells": [
  {
   "cell_type": "code",
   "execution_count": 1,
   "metadata": {},
   "outputs": [],
   "source": [
    "%load_ext autoreload\n",
    "%autoreload 2\n",
    "import time\n",
    "from utils import generate_pixel_columns, extract_best_entries"
   ]
  },
  {
   "cell_type": "code",
   "execution_count": 2,
   "metadata": {},
   "outputs": [],
   "source": [
    "category = 'car'\n",
    "image_gen_params = {\n",
    "    'magnification': 1,\n",
    "    'resolution': 32,\n",
    "    'invert_color': True,\n",
    "    'stroke_width_scale': 1\n",
    "}\n",
    "\n",
    "if category is None:\n",
    "    raise Exception(\"Must select a category\")\n",
    "\n",
    "df = extract_best_entries(f'./dataset/{category}.ndjson', 2000, recognized=True)\n",
    "df = generate_pixel_columns(df, **image_gen_params)\n",
    "df = df.drop(columns=['word', 'timestamp', 'recognized', 'key_id', 'complexity', 'drawing'])"
   ]
  },
  {
   "cell_type": "code",
   "execution_count": 3,
   "metadata": {},
   "outputs": [
    {
     "name": "stdout",
     "output_type": "stream",
     "text": [
      "Train: 1800 entries, test: 200 entries.\n"
     ]
    }
   ],
   "source": [
    "train_amt = int(len(df) * .9)\n",
    "\n",
    "train = df[:train_amt]\n",
    "test = df[train_amt:]\n",
    "# del df\n",
    "\n",
    "train = train.reset_index(drop=True)\n",
    "test = test.reset_index(drop=True)\n",
    "\n",
    "print(f'Train: {len(train)} entries, test: {len(test)} entries.')"
   ]
  },
  {
   "cell_type": "code",
   "execution_count": 4,
   "metadata": {},
   "outputs": [
    {
     "name": "stdout",
     "output_type": "stream",
     "text": [
      "Done generating features and target\n",
      "PCA & standardization done. Keeping 386 features\n",
      "Done training model in 56.25s\n"
     ]
    }
   ],
   "source": [
    "from sklearn.decomposition import PCA\n",
    "from sklearn.preprocessing import StandardScaler\n",
    "from sklearn.multiclass import OneVsRestClassifier\n",
    "from sklearn.neural_network import MLPClassifier\n",
    "from itertools import repeat\n",
    "import time\n",
    "\n",
    "y = train['countrycode'].to_numpy()\n",
    "X = train.drop(columns=['countrycode']).to_numpy()\n",
    "print(\"Done generating features and target\")\n",
    "\n",
    "scaler = StandardScaler()\n",
    "X = scaler.fit_transform(X)\n",
    "pca = PCA(.85)\n",
    "X = pca.fit_transform(X)\n",
    "print(f'PCA & standardization done. Keeping {pca.n_components_} features')\n",
    "\n",
    "classifier = MLPClassifier(hidden_layer_sizes=tuple(repeat(int(pca.n_components_ * 1.2), 3)), solver='lbfgs', alpha=1e-07)\n",
    "start = time.time()\n",
    "model = OneVsRestClassifier(classifier, n_jobs=-1).fit(X, y)\n",
    "end = time.time()\n",
    "print(f\"Done training model in {'{:.2f}'.format(end - start)}s\")"
   ]
  },
  {
   "cell_type": "code",
   "execution_count": 5,
   "metadata": {},
   "outputs": [
    {
     "name": "stdout",
     "output_type": "stream",
     "text": [
      "Accuracy: 0.35\n"
     ]
    }
   ],
   "source": [
    "test2 = test.drop(columns=['countrycode']).to_numpy()\n",
    "test2 = scaler.transform(test2)\n",
    "test2 = pca.transform(test2)\n",
    "prediction = model.predict(test2)\n",
    "\n",
    "from sklearn.metrics import accuracy_score\n",
    "acc_score = accuracy_score(test['countrycode'].values.tolist(), prediction)\n",
    "print(f\"Accuracy: {acc_score}\")"
   ]
  },
  {
   "cell_type": "code",
   "execution_count": null,
   "metadata": {},
   "outputs": [],
   "source": []
  }
 ],
 "metadata": {
  "interpreter": {
   "hash": "e7370f93d1d0cde622a1f8e1c04877d8463912d04d973331ad4851f04de6915a"
  },
  "kernelspec": {
   "display_name": "Python 3.9.7 64-bit",
   "name": "python3"
  },
  "language_info": {
   "codemirror_mode": {
    "name": "ipython",
    "version": 3
   },
   "file_extension": ".py",
   "mimetype": "text/x-python",
   "name": "python",
   "nbconvert_exporter": "python",
   "pygments_lexer": "ipython3",
   "version": "3.9.7"
  },
  "orig_nbformat": 4
 },
 "nbformat": 4,
 "nbformat_minor": 2
}
