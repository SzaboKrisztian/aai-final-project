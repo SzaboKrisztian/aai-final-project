{
 "cells": [
  {
   "cell_type": "markdown",
   "metadata": {},
   "source": [
    "# Imports"
   ]
  },
  {
   "cell_type": "code",
   "execution_count": 18,
   "metadata": {},
   "outputs": [
    {
     "name": "stdout",
     "output_type": "stream",
     "text": [
      "The autoreload extension is already loaded. To reload it, use:\n",
      "  %reload_ext autoreload\n"
     ]
    }
   ],
   "source": [
    "%load_ext autoreload\n",
    "%autoreload 2\n",
    "%matplotlib inline\n",
    "import pandas as pd\n",
    "import random\n",
    "import time\n",
    "import joblib\n",
    "import os\n",
    "from utils import get_dataset_files, extract_random_entries, extract_first_entries, generate_pixel_columns, load_run, extract_best_entries, render_single\n",
    "from IPython.display import display, Image as IPImage\n",
    "from sklearn.decomposition import PCA\n",
    "from sklearn.preprocessing import StandardScaler\n",
    "from sklearn.multiclass import OneVsRestClassifier\n",
    "from sklearn.svm import LinearSVC, NuSVC, SVC\n",
    "from sklearn.linear_model import SGDClassifier, LogisticRegression\n",
    "from sklearn.discriminant_analysis import LinearDiscriminantAnalysis, QuadraticDiscriminantAnalysis\n",
    "from sklearn.tree import DecisionTreeClassifier, ExtraTreeClassifier\n",
    "from sklearn.neural_network import MLPClassifier\n",
    "from sklearn.kernel_ridge import KernelRidge\n",
    "from sklearn.gaussian_process import GaussianProcessClassifier\n",
    "from sklearn.gaussian_process.kernels import RBF\n",
    "from itertools import repeat\n",
    "from sklearn.metrics import accuracy_score, classification_report"
   ]
  },
  {
   "cell_type": "markdown",
   "metadata": {},
   "source": [
    "# Data loading + generation\n",
    "\n",
    "Commented out are a few alternate ways of loading the data.\n",
    "- Loading all classes, specific classes, or a certain number of classes at random\n",
    "- Loading all entries in a class, loading a certain number of random entries, loading a certain number of the first entries in a class, or loading a certain number of the most complex entries in a class"
   ]
  },
  {
   "cell_type": "code",
   "execution_count": 4,
   "metadata": {},
   "outputs": [
    {
     "name": "stdout",
     "output_type": "stream",
     "text": [
      "Loaded 78000 entries from ['./dataset/ambulance.ndjson', './dataset/bed.ndjson', './dataset/bench.ndjson', './dataset/bread.ndjson', './dataset/castle.ndjson', './dataset/cell phone.ndjson', './dataset/chair.ndjson', './dataset/church.ndjson', './dataset/coffee cup.ndjson', './dataset/crown.ndjson', './dataset/cruise ship.ndjson', './dataset/cup.ndjson', './dataset/dishwasher.ndjson', './dataset/dresser.ndjson', './dataset/eye.ndjson', './dataset/face.ndjson', './dataset/fan.ndjson', './dataset/fire hydrant.ndjson', './dataset/fish.ndjson', './dataset/hammer.ndjson', './dataset/hat.ndjson', './dataset/helicopter.ndjson', './dataset/ice cream.ndjson', './dataset/lantern.ndjson', './dataset/passport.ndjson', './dataset/pickup truck.ndjson', './dataset/pillow.ndjson', './dataset/power outlet.ndjson', './dataset/sailboat.ndjson', './dataset/sandwich.ndjson', './dataset/snowman.ndjson', './dataset/star.ndjson', './dataset/strawberry.ndjson', './dataset/suitcase.ndjson', './dataset/table.ndjson', './dataset/telephone.ndjson', './dataset/traffic light.ndjson', './dataset/watermelon.ndjson', './dataset/wine glass.ndjson']\n",
      "Done shuffling dataset\n",
      "Done generating pixel columns\n"
     ]
    }
   ],
   "source": [
    "load_existing_run = None\n",
    "\n",
    "if load_existing_run is None:\n",
    "    # num_cats = 10\n",
    "    entries_per_cat = 2000\n",
    "    image_gen_params = {\n",
    "        'magnification': 4, # Higher values improve antialiasing, but uses more memory during drawing\n",
    "        'resolution': 32,\n",
    "        'invert_color': True, # True = white on black\n",
    "        'stroke_width_scale': 2 # What stroke width to use to trace the lines in the drawing\n",
    "    }\n",
    "    \n",
    "    # files = get_dataset_files()\n",
    "    # files = random.sample(files, num_cats)\n",
    "    # names = ['power outlet', 'pickup truck', 'castle']\n",
    "    names = ['ambulance','bed','bench','bread','castle','cell phone','chair','church','coffee cup','crown','cruise ship','cup','dishwasher','dresser','eye','face',\n",
    "        'fan','fire hydrant','fish','hammer','hat','helicopter','ice cream','lantern','passport','pickup truck','pillow','power outlet','sailboat','sandwich',\n",
    "        'snowman','star','strawberry','suitcase','table','telephone','traffic light','watermelon','wine glass']\n",
    "    files = list(map(lambda n: f\"./dataset/{n}.ndjson\", names))\n",
    "    df = extract_best_entries(files, entries_per_cat, recognized=True, skip_first=200)\n",
    "    # df = extract_random_entries(files, entries_per_cat, recognized=True)\n",
    "    # df = extract_best_entries(files, entries_per_cat, recognized=True)\n",
    "    \n",
    "    print(f'Loaded {len(df)} entries from {files}')\n",
    "    df = df.sample(len(df))\n",
    "    print('Done shuffling dataset')\n",
    "    df = generate_pixel_columns(df, **image_gen_params).reset_index(drop=True)\n",
    "    print('Done generating pixel columns')\n",
    "\n",
    "else:\n",
    "    run = load_run(load_existing_run)\n",
    "    df = run['data']\n",
    "    num_cats = len(df['word'].value_counts())\n",
    "    entries_per_cat = df['word'].value_counts()[df['word'].value_counts().keys()[0]]\n",
    "    image_gen_params = run['img_params']"
   ]
  },
  {
   "cell_type": "markdown",
   "metadata": {},
   "source": [
    "# Data splitting, standardization, and dimensional reduction"
   ]
  },
  {
   "cell_type": "code",
   "execution_count": 5,
   "metadata": {},
   "outputs": [
    {
     "name": "stdout",
     "output_type": "stream",
     "text": [
      "Train: 62400 entries, test: 15600 entries.\n",
      "Done generating features and target\n",
      "PCA & standardization done. Keeping 180 features\n",
      "Done saving dataset to disk\n",
      "Done saving PCA and scaler to disk\n"
     ]
    }
   ],
   "source": [
    "train_amt = int(len(df) * .8)\n",
    "\n",
    "train = df[:train_amt]\n",
    "test = df[train_amt:]\n",
    "\n",
    "train = train.reset_index(drop=True)\n",
    "test = test.reset_index(drop=True)\n",
    "\n",
    "print(f'Train: {len(train)} entries, test: {len(test)} entries.')\n",
    "\n",
    "pca_on = True\n",
    "\n",
    "y = train['word'].to_numpy()\n",
    "X = train.filter(regex='pixel.+').to_numpy()\n",
    "print(\"Done generating features and target\")\n",
    "\n",
    "if pca_on:\n",
    "    if load_existing_run is None:\n",
    "        scaler = StandardScaler()\n",
    "        X = scaler.fit_transform(X)\n",
    "        pca = PCA(.85)\n",
    "        X = pca.fit_transform(X)\n",
    "        print(f'PCA & standardization done. Keeping {pca.n_components_} features')\n",
    "    else:\n",
    "        scaler = run['scaler']\n",
    "        pca = run['pca']\n",
    "        X = scaler.transform(X)\n",
    "        X = pca.transform(X)\n",
    "        print('Applied scaler and PCA.')\n",
    "\n",
    "save_to_disk = True\n",
    "\n",
    "if save_to_disk:\n",
    "    stamp = str(int(time.time()))\n",
    "    folder = f'./runs/{stamp}/'\n",
    "    if not os.path.exists(folder):\n",
    "        os.makedirs(folder)\n",
    "    pd.DataFrame.to_feather(df, folder + 'data')\n",
    "    with open(folder + 'img_params', 'w') as f:\n",
    "        f.writelines(str(image_gen_params))\n",
    "    print('Done saving dataset to disk')\n",
    "    if pca_on:\n",
    "        joblib.dump(pca, folder + 'pca')\n",
    "        joblib.dump(scaler, folder + 'scaler')\n",
    "        print('Done saving PCA and scaler to disk')"
   ]
  },
  {
   "cell_type": "markdown",
   "metadata": {},
   "source": [
    "# Model training"
   ]
  },
  {
   "cell_type": "code",
   "execution_count": 19,
   "metadata": {},
   "outputs": [
    {
     "name": "stdout",
     "output_type": "stream",
     "text": [
      "Done training LinearRegression model in 19.22s\n",
      "Done saving models to disk\n"
     ]
    }
   ],
   "source": [
    "classifiers = {\n",
    "    # 'LinearSVC': LinearSVC(dual=False),\n",
    "    # 'NuSVC': NuSVC(nu=1e-07, tol=1e-09),\n",
    "    # 'SGDClassifier': SGDClassifier(loss='epsilon_insensitive', penalty='elasticnet', n_jobs=-1),\n",
    "    # 'SVC': SVC(kernel='rbf', C=2.5, gamma=.0001105),\n",
    "    # 'LinearDiscriminantAnalysis': LinearDiscriminantAnalysis(store_covariance=True, tol=1e-06),\n",
    "    # 'QuadraticDiscriminantAnalysis': QuadraticDiscriminantAnalysis(store_covariance=True, tol=1e-06),\n",
    "    # 'MLPClassifier': MLPClassifier(hidden_layer_sizes=tuple(repeat(int(pca.n_components_ * 1.2), 3)), solver='lbfgs', alpha=1e-07),\n",
    "    # 'DecisionTreeClassifier': DecisionTreeClassifier(),\n",
    "    # 'ExtraTreeClassifier': ExtraTreeClassifier(),\n",
    "    # 'KernelRidge': KernelRidge(),\n",
    "    # 'GaussianProcess': GaussianProcessClassifier(1.0 * RBF(1.0)),\n",
    "    'LinearRegression': LogisticRegression(dual=False, max_iter=10000, C=.01, tol=1e-07)\n",
    "}\n",
    "\n",
    "models = {}\n",
    "for type, classifier in classifiers.items():\n",
    "    start = time.time()\n",
    "    models[type] = OneVsRestClassifier(classifier, n_jobs=-1).fit(X, y)\n",
    "    end = time.time()\n",
    "    print(f\"Done training {type} model in {'{:.2f}'.format(end - start)}s\")\n",
    "\n",
    "if save_to_disk:\n",
    "    joblib.dump(models, folder + 'models')\n",
    "    print(\"Done saving models to disk\")"
   ]
  },
  {
   "cell_type": "markdown",
   "metadata": {},
   "source": [
    "# Model evaluation"
   ]
  },
  {
   "cell_type": "code",
   "execution_count": 20,
   "metadata": {},
   "outputs": [
    {
     "name": "stdout",
     "output_type": "stream",
     "text": [
      "Random chance: 2.56%\n",
      "LinearRegression classifier, accuracy: 42.02%\n",
      "               precision    recall  f1-score   support\n",
      "\n",
      "    ambulance       0.36      0.37      0.36       374\n",
      "          bed       0.27      0.19      0.22       403\n",
      "        bench       0.50      0.68      0.57       366\n",
      "        bread       0.15      0.05      0.07       439\n",
      "       castle       0.24      0.20      0.22       409\n",
      "   cell phone       0.37      0.48      0.42       401\n",
      "        chair       0.54      0.71      0.62       420\n",
      "       church       0.37      0.27      0.31       441\n",
      "   coffee cup       0.39      0.47      0.42       386\n",
      "        crown       0.37      0.31      0.34       405\n",
      "  cruise ship       0.22      0.19      0.20       396\n",
      "          cup       0.32      0.21      0.25       413\n",
      "   dishwasher       0.50      0.56      0.53       380\n",
      "      dresser       0.35      0.25      0.30       406\n",
      "          eye       0.41      0.56      0.48       405\n",
      "         face       0.53      0.61      0.57       404\n",
      "          fan       0.57      0.59      0.58       384\n",
      " fire hydrant       0.36      0.22      0.28       402\n",
      "         fish       0.36      0.57      0.44       395\n",
      "       hammer       0.42      0.43      0.42       415\n",
      "          hat       0.36      0.41      0.38       410\n",
      "   helicopter       0.31      0.34      0.32       399\n",
      "    ice cream       0.55      0.73      0.63       394\n",
      "      lantern       0.35      0.34      0.34       352\n",
      "     passport       0.33      0.25      0.28       383\n",
      " pickup truck       0.35      0.41      0.38       417\n",
      "       pillow       0.64      0.78      0.70       393\n",
      " power outlet       0.33      0.28      0.30       396\n",
      "     sailboat       0.53      0.57      0.55       436\n",
      "     sandwich       0.36      0.36      0.36       416\n",
      "      snowman       0.50      0.58      0.54       401\n",
      "         star       0.39      0.46      0.42       398\n",
      "   strawberry       0.44      0.36      0.39       428\n",
      "     suitcase       0.61      0.69      0.65       370\n",
      "        table       0.45      0.49      0.47       427\n",
      "    telephone       0.19      0.08      0.12       393\n",
      "traffic light       0.36      0.29      0.32       387\n",
      "   watermelon       0.27      0.25      0.26       372\n",
      "   wine glass       0.76      0.87      0.81       384\n",
      "\n",
      "     accuracy                           0.42     15600\n",
      "    macro avg       0.40      0.42      0.41     15600\n",
      " weighted avg       0.40      0.42      0.40     15600\n",
      "\n"
     ]
    }
   ],
   "source": [
    "print('Random chance: ' + '{:.2f}%'.format(100 / len(names)))\n",
    "\n",
    "for model_type, model in models.items():\n",
    "    test2 = test.filter(regex='pixel.+').to_numpy()\n",
    "    if pca_on:\n",
    "        test2 = scaler.transform(test2)\n",
    "        test2 = pca.transform(test2)\n",
    "    prediction = model.predict(test2)\n",
    "\n",
    "    truth = test['word'].values.tolist()\n",
    "    acc_score = accuracy_score(truth, prediction)\n",
    "    print(f\"{model_type} classifier, accuracy: {'{:.2f}%'.format(acc_score * 100)}\")\n",
    "    print(classification_report(truth, prediction, zero_division=0))"
   ]
  },
  {
   "cell_type": "code",
   "execution_count": 32,
   "metadata": {},
   "outputs": [
    {
     "data": {
      "image/png": "[encoded data removed]",
      "text/plain": [
       "<IPython.core.display.Image object>"
      ]
     },
     "metadata": {},
     "output_type": "display_data"
    },
    {
     "name": "stdout",
     "output_type": "stream",
     "text": [
      "Using MLPClassifier classifier\n",
      "passport(predicted) == sailboat(actual) ? False\n"
     ]
    }
   ],
   "source": [
    "# cls_type, model = random.choice(list(models.items()))\n",
    "# cls_type = 'MLPClassifier'\n",
    "model = models[list(models.keys())[0]]\n",
    "\n",
    "sample = test.sample(1)\n",
    "sample_predict = sample.filter(regex='pixel.+').to_numpy()\n",
    "\n",
    "if pca_on:\n",
    "    sample_predict = scaler.transform(sample_predict)\n",
    "    sample_predict = pca.transform(sample_predict)\n",
    "\n",
    "prediction = model.predict(sample_predict)\n",
    "display(IPImage(render_single(sample['drawing'].iloc[0])))\n",
    "print(f\"Using {cls_type} classifier\")\n",
    "print(f\"{prediction[0]}(predicted) == {sample['word'].iloc[0]}(actual) ? {sample['word'].iloc[0] == prediction[0]}\")"
   ]
  }
 ],
 "metadata": {
  "interpreter": {
   "hash": "916dbcbb3f70747c44a77c7bcd40155683ae19c65e1c03b4aa3499c5328201f1"
  },
  "kernelspec": {
   "display_name": "Python 3.9.7 64-bit",
   "language": "python",
   "name": "python3"
  },
  "language_info": {
   "codemirror_mode": {
    "name": "ipython",
    "version": 3
   },
   "file_extension": ".py",
   "mimetype": "text/x-python",
   "name": "python",
   "nbconvert_exporter": "python",
   "pygments_lexer": "ipython3",
   "version": "3.9.7"
  },
  "orig_nbformat": 4
 },
 "nbformat": 4,
 "nbformat_minor": 2
}
