{
 "cells": [
  {
   "cell_type": "code",
   "execution_count": 4,
   "metadata": {},
   "outputs": [
    {
     "name": "stdout",
     "output_type": "stream",
     "text": [
      "The autoreload extension is already loaded. To reload it, use:\n",
      "  %reload_ext autoreload\n"
     ]
    }
   ],
   "source": [
    "%load_ext autoreload\n",
    "%autoreload 2\n",
    "import time\n",
    "from utils import generate_pixel_columns, extract_best_entries, extract_first_entries, equalize_by"
   ]
  },
  {
   "cell_type": "code",
   "execution_count": 7,
   "metadata": {},
   "outputs": [
    {
     "name": "stdout",
     "output_type": "stream",
     "text": [
      "3000\n",
      "Retained 1 countries\n"
     ]
    }
   ],
   "source": [
    "names = ['power outlet']\n",
    "    # ['ambulance','bed','bench','bread','castle','cell phone','chair','church','coffee cup','crown','cruise ship','cup','dishwasher','dresser','eye','face',\n",
    "    # 'fan','fire hydrant','fish','hammer','hat','helicopter','ice cream','lantern','passport','pickup truck','pillow','power outlet','sailboat','sandwich','snowman',\n",
    "    # 'star','strawberry','suitcase','table','telephone','traffic light','watermelon','wine glass']\n",
    "image_gen_params = {\n",
    "    'magnification': 4,\n",
    "    'resolution': 32,\n",
    "    'invert_color': True,\n",
    "    'stroke_width_scale': 2\n",
    "}\n",
    "\n",
    "files = list(map(lambda n: f\"./dataset/{n}.ndjson\", names))\n",
    "\n",
    "df = extract_best_entries(files, recognized=True, skip_first=200)\n",
    "df = equalize_by(df, 'countrycode', num_entries=500)\n",
    "print(f\"Retained {len(df['countrycode'].value_counts())} countries\")\n",
    "df = generate_pixel_columns(df, **image_gen_params)"
   ]
  },
  {
   "cell_type": "code",
   "execution_count": 33,
   "metadata": {},
   "outputs": [
    {
     "name": "stdout",
     "output_type": "stream",
     "text": [
      "Train: 40500 entries, test: 4500 entries.\n"
     ]
    }
   ],
   "source": [
    "train_amt = int(len(df) * .8)\n",
    "\n",
    "train = df[:train_amt]\n",
    "test = df[train_amt:]\n",
    "\n",
    "train = train.reset_index(drop=True)\n",
    "test = test.reset_index(drop=True)\n",
    "\n",
    "print(f'Train: {len(train)} entries, test: {len(test)} entries.')"
   ]
  },
  {
   "cell_type": "code",
   "execution_count": 34,
   "metadata": {},
   "outputs": [
    {
     "name": "stdout",
     "output_type": "stream",
     "text": [
      "Done generating features and target\n",
      "PCA & standardization done. Keeping 585 features\n",
      "Done training model in 6178.25s\n"
     ]
    }
   ],
   "source": [
    "from sklearn.decomposition import PCA\n",
    "from sklearn.preprocessing import StandardScaler\n",
    "from sklearn.multiclass import OneVsRestClassifier\n",
    "from sklearn.neural_network import MLPClassifier\n",
    "from itertools import repeat\n",
    "import time\n",
    "\n",
    "y = train['countrycode'].to_numpy()\n",
    "X = train.filter(regex='pixel.+').to_numpy()\n",
    "print(\"Done generating features and target\")\n",
    "\n",
    "scaler = StandardScaler()\n",
    "X = scaler.fit_transform(X)\n",
    "pca = PCA(.85)\n",
    "X = pca.fit_transform(X)\n",
    "print(f'PCA & standardization done. Keeping {pca.n_components_} features')\n",
    "\n",
    "classifier = MLPClassifier(hidden_layer_sizes=tuple(repeat(int(pca.n_components_ * 1.2), 3)), solver='lbfgs', alpha=1e-07)\n",
    "start = time.time()\n",
    "model = OneVsRestClassifier(classifier, n_jobs=-1).fit(X, y)\n",
    "end = time.time()\n",
    "print(f\"Done training model in {'{:.2f}'.format(end - start)}s\")"
   ]
  },
  {
   "cell_type": "code",
   "execution_count": 35,
   "metadata": {},
   "outputs": [
    {
     "name": "stdout",
     "output_type": "stream",
     "text": [
      "Scores greater than 2.22% (random chance):\n",
      "  TW: 14.04%\n",
      "  JP: 8.62%\n",
      "  KR: 7.61%\n",
      "  AT: 7.37%\n",
      "  CA: 6.60%\n",
      "  TH: 6.06%\n",
      "  PL: 5.75%\n",
      "  MX: 4.72%\n",
      "  AU: 4.49%\n",
      "  MY: 4.35%\n",
      "  ID: 3.64%\n",
      "  NO: 3.26%\n",
      "  SE: 3.06%\n",
      "  FR: 2.97%\n",
      "  SA: 2.91%\n",
      "  RU: 2.86%\n",
      "  BR: 2.80%\n",
      "  AE: 2.75%\n",
      "  NZ: 2.75%\n",
      "  PH: 2.68%\n",
      "  FI: 2.50%\n",
      "  US: 2.27%\n",
      "  RS: 2.27%\n",
      "Overall accuracy: 0.03%\n"
     ]
    }
   ],
   "source": [
    "test2 = test.filter(regex='pixel.+').to_numpy()\n",
    "test2 = scaler.transform(test2)\n",
    "test2 = pca.transform(test2)\n",
    "prediction = model.predict(test2)\n",
    "\n",
    "countries = list(test['countrycode'].value_counts().keys())\n",
    "counts = {}\n",
    "for idx in range(len(test)):\n",
    "    country = test['countrycode'].iloc[idx]\n",
    "    entry_score = counts.get(country, (0, 0))\n",
    "    entry_score = (entry_score[0] + 1 if prediction[idx] == country else entry_score[0], entry_score[1] + 1)\n",
    "    counts[country] = entry_score\n",
    "scores = {}\n",
    "for country in countries:\n",
    "    scores[country] = (counts[country][0] / counts[country][1]) * 100\n",
    "\n",
    "scores = [(k, v) for k, v in scores.items()]\n",
    "scores.sort(key=lambda e : e[1], reverse=True)\n",
    "threshold = 100 / len(countries)\n",
    "\n",
    "print(f'Scores greater than {\"{:.2f}\".format(threshold)}% (random chance):')\n",
    "for entry in scores:\n",
    "    if entry[1] > threshold:\n",
    "        print(f'  {entry[0]}: {\"{:.2f}\".format(entry[1])}%')\n",
    "\n",
    "from sklearn.metrics import accuracy_score\n",
    "acc_score = accuracy_score(test['countrycode'].values.tolist(), prediction)\n",
    "print(f\"Overall accuracy: {'{:.2f}'.format(acc_score)}%\")"
   ]
  }
 ],
 "metadata": {
  "interpreter": {
   "hash": "e7370f93d1d0cde622a1f8e1c04877d8463912d04d973331ad4851f04de6915a"
  },
  "kernelspec": {
   "display_name": "Python 3 (ipykernel)",
   "language": "python",
   "name": "python3"
  },
  "language_info": {
   "codemirror_mode": {
    "name": "ipython",
    "version": 3
   },
   "file_extension": ".py",
   "mimetype": "text/x-python",
   "name": "python",
   "nbconvert_exporter": "python",
   "pygments_lexer": "ipython3",
   "version": "3.9.7"
  }
 },
 "nbformat": 4,
 "nbformat_minor": 2
}
